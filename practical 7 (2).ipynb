{
 "cells": [
  {
   "cell_type": "code",
   "execution_count": 4,
   "id": "8b1af4e0-9973-4f71-b024-befd366f41ea",
   "metadata": {},
   "outputs": [],
   "source": [
    " text= \"Tokenization is the first step in text analytics. The process of breaking down a text paragraph into smaller chunks such as words or sentences is called Tokenization.\""
   ]
  },
  {
   "cell_type": "code",
   "execution_count": 110,
   "id": "10518441-c24c-4acb-82fc-eb9f87802659",
   "metadata": {},
   "outputs": [
    {
     "name": "stdout",
     "output_type": "stream",
     "text": [
      "['How to remove stop words with NLTK library in Python']\n"
     ]
    }
   ],
   "source": [
    "from nltk.tokenize import sent_tokenize \n",
    "tokenized_text= sent_tokenize(text) \n",
    "print(tokenized_text) "
   ]
  },
  {
   "cell_type": "code",
   "execution_count": 79,
   "id": "c12c0edb-4e94-4dff-8ea4-6a51cc8b5b59",
   "metadata": {},
   "outputs": [],
   "source": [
    "import string\n",
    "text=text.translate(text.maketrans(\"\",\"\",string.punctuation))"
   ]
  },
  {
   "cell_type": "code",
   "execution_count": 80,
   "id": "0110aa26-4b5d-4a71-8a8c-baa2ba455ed2",
   "metadata": {},
   "outputs": [
    {
     "name": "stdout",
     "output_type": "stream",
     "text": [
      "['How', 'to', 'remove', 'stop', 'words', 'with', 'NLTK', 'library', 'in', 'Python']\n"
     ]
    }
   ],
   "source": [
    "from nltk.tokenize import word_tokenize \n",
    "tokenized_word=word_tokenize(text) \n",
    "print(tokenized_word)"
   ]
  },
  {
   "cell_type": "code",
   "execution_count": 76,
   "id": "4c0c43c6-3b74-4284-a5cd-73c9c6d89ff6",
   "metadata": {},
   "outputs": [
    {
     "name": "stdout",
     "output_type": "stream",
     "text": [
      "{'was', 'yourselves', 'our', 'me', \"she's\", 'theirs', 've', \"we've\", \"you'll\", \"he'd\", \"should've\", 'the', 'will', 'hers', 'have', 'mightn', 'he', 'being', \"i've\", 'needn', 'didn', 'were', 'by', 'does', 'as', 'did', \"he's\", 'are', 'you', 'itself', 'wouldn', \"i'd\", 'she', 's', 'above', 'o', \"it's\", 'd', 'off', 'been', \"needn't\", 'their', 'mustn', \"isn't\", 'no', 'don', 'both', \"hasn't\", \"i'm\", 'ours', 'such', 'why', 'they', 'hasn', 'at', 'should', 'for', 'haven', \"mustn't\", 'few', 'when', \"she'd\", 't', 'had', 'once', \"he'll\", 'too', 'who', 'we', 'its', 'these', \"shouldn't\", 'over', 'do', 'that', 'out', 'themselves', 'nor', \"it'd\", \"couldn't\", 'up', 'but', \"haven't\", 'an', 'now', \"wouldn't\", 're', 'weren', 'shouldn', 'very', 'and', 'wasn', 'him', \"wasn't\", 'yours', 'can', 'll', 'those', 'each', \"you've\", 'his', 'against', \"that'll\", 'not', 'isn', 'if', 'into', 'hadn', 'under', 'all', 'herself', 'to', 'doing', \"doesn't\", 'any', \"mightn't\", \"shan't\", 'than', 'in', \"weren't\", 'be', 'your', \"aren't\", 'with', 'while', \"you're\", 'am', 'i', \"they've\", 'then', 'from', 'ma', 'what', 'there', 'just', \"you'd\", 'm', 'them', 'is', 'more', \"didn't\", \"won't\", 'or', \"we'll\", \"i'll\", 'between', \"they're\", 'below', \"they'll\", \"don't\", 'my', 'of', \"they'd\", 'again', \"we're\", \"it'll\", 'down', 'a', 'after', 'until', 'before', 'here', 'through', 'has', 'won', 'most', \"hadn't\", 'her', 'own', 'other', 'shan', 'ourselves', \"she'll\", 'this', 'himself', 'some', 'it', 'doesn', 'how', 'which', 'only', 'so', 'on', 'further', \"we'd\", 'couldn', 'same', 'yourself', 'myself', 'because', 'whom', 'aren', 'y', 'about', 'during', 'ain', 'where', 'having'}\n"
     ]
    }
   ],
   "source": [
    "from nltk.corpus import stopwords \n",
    "stop_words=set(stopwords.words(\"english\")) \n",
    "print(stop_words) "
   ]
  },
  {
   "cell_type": "code",
   "execution_count": 77,
   "id": "e8d4bc96-7f79-404c-afa0-37a3b87e39ba",
   "metadata": {},
   "outputs": [
    {
     "name": "stdout",
     "output_type": "stream",
     "text": [
      "Tokenized Sentence: ['how', 'to', 'remove', 'stop', 'words', 'with', 'nltk', 'library', 'in', 'python']\n",
      "Filterd Sentence: ['remove']\n",
      "Tokenized Sentence: ['how', 'to', 'remove', 'stop', 'words', 'with', 'nltk', 'library', 'in', 'python']\n",
      "Filterd Sentence: ['remove', 'stop']\n",
      "Tokenized Sentence: ['how', 'to', 'remove', 'stop', 'words', 'with', 'nltk', 'library', 'in', 'python']\n",
      "Filterd Sentence: ['remove', 'stop', 'words']\n",
      "Tokenized Sentence: ['how', 'to', 'remove', 'stop', 'words', 'with', 'nltk', 'library', 'in', 'python']\n",
      "Filterd Sentence: ['remove', 'stop', 'words', 'nltk']\n",
      "Tokenized Sentence: ['how', 'to', 'remove', 'stop', 'words', 'with', 'nltk', 'library', 'in', 'python']\n",
      "Filterd Sentence: ['remove', 'stop', 'words', 'nltk', 'library']\n",
      "Tokenized Sentence: ['how', 'to', 'remove', 'stop', 'words', 'with', 'nltk', 'library', 'in', 'python']\n",
      "Filterd Sentence: ['remove', 'stop', 'words', 'nltk', 'library', 'python']\n"
     ]
    }
   ],
   "source": [
    "import re\n",
    "text= \"How to remove stop words with NLTK library in Python?\" \n",
    "text= re.sub('[^a-zA-Z]', ' ',text) \n",
    "tokens = word_tokenize(text.lower()) \n",
    "filtered_text=[] \n",
    "for w in tokens: \n",
    "    if w not in stop_words: \n",
    "        filtered_text.append(w) \n",
    "        print(\"Tokenized Sentence:\",tokens) \n",
    "        print(\"Filterd Sentence:\",filtered_text)"
   ]
  },
  {
   "cell_type": "code",
   "execution_count": 78,
   "id": "cb9afcba-412c-459d-bad2-57ebefa382e2",
   "metadata": {},
   "outputs": [
    {
     "name": "stdout",
     "output_type": "stream",
     "text": [
      "wait\n"
     ]
    }
   ],
   "source": [
    "from nltk.stem import PorterStemmer\n",
    "e_words= [\"wait\", \"waiting\", \"waited\",\"waits\"]\n",
    "ps =PorterStemmer()\n",
    "for w in e_words:\n",
    "    rootWord=ps.stem(w)\n",
    "print(rootWord)"
   ]
  },
  {
   "cell_type": "code",
   "execution_count": 22,
   "id": "3c414250-dac9-4c18-9445-65ad409f83b5",
   "metadata": {},
   "outputs": [
    {
     "name": "stdout",
     "output_type": "stream",
     "text": [
      "Lemma for studies isstudy\n",
      "Lemma for studying isstudying\n",
      "Lemma for cries iscry\n",
      "Lemma for cry iscry\n"
     ]
    }
   ],
   "source": [
    "from nltk.stem import WordNetLemmatizer\n",
    "wordnet_lemmatizer = WordNetLemmatizer()\n",
    "text = \"studies studying cries cry\"\n",
    "tokenization = nltk.word_tokenize(text)\n",
    "for w in tokenization:\n",
    "    print(\"Lemma for {} is{}\".format(w,wordnet_lemmatizer.lemmatize(w)))"
   ]
  },
  {
   "cell_type": "code",
   "execution_count": 23,
   "id": "ea91bd78-b4bd-458d-88a1-2e2e03c21a41",
   "metadata": {},
   "outputs": [
    {
     "name": "stdout",
     "output_type": "stream",
     "text": [
      "[('The', 'DT')]\n",
      "[('pink', 'NN')]\n",
      "[('sweater', 'NN')]\n",
      "[('fit', 'NN')]\n",
      "[('her', 'PRP$')]\n",
      "[('perfectly', 'RB')]\n"
     ]
    }
   ],
   "source": [
    "import nltk\n",
    "from nltk.tokenize import word_tokenize\n",
    "data=\"The pink sweater fit her perfectly\"\n",
    "words=word_tokenize(data)\n",
    "for word in words:\n",
    "    print(nltk.pos_tag([word]))"
   ]
  },
  {
   "cell_type": "code",
   "execution_count": 24,
   "id": "145700ae-f16b-4699-ac04-11049e262760",
   "metadata": {},
   "outputs": [],
   "source": [
    "import pandas as pd\n",
    "from sklearn.feature_extraction.text import TfidfVectorizer"
   ]
  },
  {
   "cell_type": "code",
   "execution_count": 29,
   "id": "b1a70551-ecd6-457e-996d-06ec6c39e28b",
   "metadata": {},
   "outputs": [],
   "source": [
    "documentA = 'Jupiter is the largest Planet'\n",
    "documentB = 'Mars is the fourth planet from the Sun'"
   ]
  },
  {
   "cell_type": "code",
   "execution_count": 60,
   "id": "64c20742-51c7-4f13-86b6-dd0768e20ea5",
   "metadata": {},
   "outputs": [],
   "source": [
    "bagOfWordsA = documentA.split(' ')\n",
    "bagOfWordsB = documentB.split(' ')"
   ]
  },
  {
   "cell_type": "code",
   "execution_count": 59,
   "id": "51cb0001-a527-4626-afa5-324225b66ce9",
   "metadata": {},
   "outputs": [],
   "source": [
    "uniqueWords = set(bagOfWordsA).union(set(bagOfWordsB))"
   ]
  },
  {
   "cell_type": "code",
   "execution_count": 62,
   "id": "b522235d-ffbf-4f28-a426-cf5b9c455799",
   "metadata": {},
   "outputs": [],
   "source": [
    "uniqueWords = list(set(bagOfWordsA + bagOfWordsB))\n",
    "\n",
    "numOfWordsA = dict.fromkeys(uniqueWords, 0)\n",
    "for word in bagOfWordsA:\n",
    "    numOfWordsA[word] += 1\n",
    "\n",
    "numOfWordsB = dict.fromkeys(uniqueWords, 0)\n",
    "for word in bagOfWordsB:\n",
    "    numOfWordsB[word] += 1\n"
   ]
  },
  {
   "cell_type": "code",
   "execution_count": 68,
   "id": "2b400874-cf9a-4f3f-b523-b3ba35215b0f",
   "metadata": {},
   "outputs": [],
   "source": [
    "def computeTF(wordDict, bagOfWords):\n",
    "    tfDict = {}\n",
    "    bagOfWordsCount = len(bagOfWords)\n",
    "    for word,count in wordDict.items():\n",
    "        tfDict[word] = count/float(bagOfWordsCount)\n",
    "        return tfDict\n",
    "numOfWordsA={'word1':3, 'word2':2 , 'word':3 }\n",
    "bagOfWordsA={'word1','word2','word3','word1','word2','word3'}\n",
    "numOfWordsB={'word1':5, 'word2':7 , 'word':9 }\n",
    "bagOfWordsB={'word1','word2','word3','word1','word2','word3'}\n",
    "tfA = computeTF(numOfWordsA,bagOfWordsA)\n",
    "tfB =computeTF(numOfWordsB, bagOfWordsB)"
   ]
  },
  {
   "cell_type": "code",
   "execution_count": 92,
   "id": "1601248b-017d-4c7d-8139-257b95ff915a",
   "metadata": {},
   "outputs": [],
   "source": [
    "import math\n",
    "def computeIDF(documents):\n",
    "    N = len(documents)\n",
    "    idfDict = dict.fromkeys(documents[0].keys(),0)\n",
    "    \n",
    "    for doc in documents:\n",
    "        for word, val in doc.items():\n",
    "            if val > 0:\n",
    "                idfDict[word] += 1\n",
    "    \n",
    "    for word, val in idfDict.items():\n",
    "        idfDict[word] = math.log(N /float(val))\n",
    "    \n",
    "    return idfDict\n",
    "idfs = computeIDF([numOfWordsA,numOfWordsB]) \n"
   ]
  },
  {
   "cell_type": "code",
   "execution_count": 35,
   "id": "693fc8f9-3be5-4547-a61c-ccbf4536aeb5",
   "metadata": {},
   "outputs": [
    {
     "name": "stdout",
     "output_type": "stream",
     "text": [
      "IDF values for each word: {'python': 0.0, 'documents': 0.6931471805599453, 'with': 0.0, 'nltk': 0.0, 'library': 0.6931471805599453, 'stop': 0.0, 'to': 0.6931471805599453, 'how': 0.6931471805599453, 'remove': 0.0, 'from': 0.6931471805599453, 'words': 0.0, 'and': 0.6931471805599453, 'in': 0.6931471805599453}\n"
     ]
    }
   ],
   "source": [
    "import math\n",
    "from collections import Counter\n",
    "\n",
    "\n",
    "def computeIDF(documents):\n",
    "    N = len(documents)  \n",
    "    word_counts = []    \n",
    "\n",
    "   \n",
    "    for document in documents:\n",
    "        word_counts.append(Counter(document))\n",
    "\n",
    "   \n",
    "    idfDict = {}\n",
    "    \n",
    " \n",
    "    all_words = set(word for doc in documents for word in doc)\n",
    "    \n",
    "    for word in all_words:\n",
    "        \n",
    "        df = sum(1 for doc in word_counts if word in doc)\n",
    "        # Compute IDF and store it\n",
    "        idfDict[word] = math.log(N / float(df)) if df > 0 else 0  # Avoid division by zero\n",
    "\n",
    "    return idfDict\n",
    "\n",
    "# Example documents (tokenized words in each document)\n",
    "numOfWordsA = ['how', 'to', 'remove', 'stop', 'words', 'with', 'nltk', 'library', 'in', 'python']\n",
    "numOfWordsB = ['remove', 'stop', 'words', 'from', 'documents', 'with', 'nltk', 'and', 'python']\n",
    "\n",
    "# Call the function with the documents\n",
    "idfs = computeIDF([numOfWordsA, numOfWordsB])\n",
    "\n",
    "# Output the result\n",
    "print(\"IDF values for each word:\", idfs)\n"
   ]
  },
  {
   "cell_type": "code",
   "execution_count": 91,
   "id": "cf5ecd7a-486e-4d9f-bf97-a39080600f6c",
   "metadata": {},
   "outputs": [
    {
     "name": "stdout",
     "output_type": "stream",
     "text": [
      "    word1  word2  word3   word4\n",
      "0  2.0793    0.0    0.0     NaN\n",
      "1     NaN    0.0    0.0  0.6931\n"
     ]
    }
   ],
   "source": [
    "import pandas as pd\n",
    "import math\n",
    "\n",
    "def computeTFIDF(tfBagOfWords, idfs): \n",
    "    tfidf = {} \n",
    "    for word, val in tfBagOfWords.items(): \n",
    "        tfidf[word] = val * idfs.get(word, 0)  \n",
    "    return tfidf \n",
    "\n",
    "tfA = {'word1': 3, 'word2': 1, 'word3': 0}\n",
    "tfB = {'word2': 1, 'word3': 2, 'word4': 1}\n",
    "idfs = {'word1': 0.6931, 'word2': 0.0, 'word3': 0.0, 'word4': 0.6931}\n",
    "\n",
    "tfidfA = computeTFIDF(tfA, idfs)\n",
    "tfidfB = computeTFIDF(tfB, idfs)\n",
    "\n",
    "df = pd.DataFrame([tfidfA, tfidfB])\n",
    "\n",
    "print(df)\n"
   ]
  },
  {
   "cell_type": "code",
   "execution_count": 106,
   "id": "7e1bf0a4-ca6b-4ad4-aa6d-ecbbad64e247",
   "metadata": {},
   "outputs": [
    {
     "name": "stdout",
     "output_type": "stream",
     "text": [
      "Requirement already satisfied: wordcloud in c:\\users\\cnlab01\\anaconda3\\lib\\site-packages (1.9.4)\n",
      "Requirement already satisfied: numpy>=1.6.1 in c:\\users\\cnlab01\\anaconda3\\lib\\site-packages (from wordcloud) (1.26.4)\n",
      "Requirement already satisfied: pillow in c:\\users\\cnlab01\\anaconda3\\lib\\site-packages (from wordcloud) (10.2.0)\n",
      "Requirement already satisfied: matplotlib in c:\\users\\cnlab01\\anaconda3\\lib\\site-packages (from wordcloud) (3.8.0)\n",
      "Requirement already satisfied: contourpy>=1.0.1 in c:\\users\\cnlab01\\anaconda3\\lib\\site-packages (from matplotlib->wordcloud) (1.2.0)\n",
      "Requirement already satisfied: cycler>=0.10 in c:\\users\\cnlab01\\anaconda3\\lib\\site-packages (from matplotlib->wordcloud) (0.11.0)\n",
      "Requirement already satisfied: fonttools>=4.22.0 in c:\\users\\cnlab01\\anaconda3\\lib\\site-packages (from matplotlib->wordcloud) (4.25.0)\n",
      "Requirement already satisfied: kiwisolver>=1.0.1 in c:\\users\\cnlab01\\anaconda3\\lib\\site-packages (from matplotlib->wordcloud) (1.4.4)\n",
      "Requirement already satisfied: packaging>=20.0 in c:\\users\\cnlab01\\anaconda3\\lib\\site-packages (from matplotlib->wordcloud) (23.1)\n",
      "Requirement already satisfied: pyparsing>=2.3.1 in c:\\users\\cnlab01\\anaconda3\\lib\\site-packages (from matplotlib->wordcloud) (3.0.9)\n",
      "Requirement already satisfied: python-dateutil>=2.7 in c:\\users\\cnlab01\\anaconda3\\lib\\site-packages (from matplotlib->wordcloud) (2.8.2)\n",
      "Requirement already satisfied: six>=1.5 in c:\\users\\cnlab01\\anaconda3\\lib\\site-packages (from python-dateutil>=2.7->matplotlib->wordcloud) (1.16.0)\n"
     ]
    }
   ],
   "source": [
    "!pip install wordcloud\n"
   ]
  },
  {
   "cell_type": "code",
   "execution_count": 109,
   "id": "498a19fc-e2b1-4fc5-ba8c-63dbbc23e469",
   "metadata": {},
   "outputs": [
    {
     "data": {
      "image/png": "[encoded data removed]",
      "text/plain": [
       "<Figure size 500x300 with 1 Axes>"
      ]
     },
     "metadata": {},
     "output_type": "display_data"
    }
   ],
   "source": [
    "import matplotlib.pyplot as plt\n",
    "from wordcloud import WordCloud\n",
    "\n",
    "word_freq = {}\n",
    "for word in df.columns:\n",
    "    word_freq[word] = tfidfA.get(word, 0) + tfidfB.get(word, 0)\n",
    "\n",
    "wordcloud = WordCloud(width=800, height=400, background_color='white').generate_from_frequencies(word_freq)\n",
    "\n",
    "plt.figure(figsize=(5, 3))\n",
    "plt.imshow(wordcloud, interpolation='bilinear')\n",
    "plt.axis('off')\n",
    "plt.show()\n"
   ]
  },
  {
   "cell_type": "code",
   "execution_count": null,
   "id": "258f2bd1-7f2a-4ce5-b06c-3f24440b6699",
   "metadata": {},
   "outputs": [],
   "source": [
    "Name: Srushti Mhaske\n",
    "Roll_no:13231"
   ]
  },
  {
   "cell_type": "code",
   "execution_count": null,
   "id": "2ed9f5b2-52da-44f2-8a88-f4998aace0b2",
   "metadata": {},
   "outputs": [],
   "source": []
  },
  {
   "cell_type": "code",
   "execution_count": null,
   "id": "c96f11e9-02b2-41bb-9d79-0815a47e3634",
   "metadata": {},
   "outputs": [],
   "source": []
  }
 ],
 "metadata": {
  "kernelspec": {
   "display_name": "Python 3 (ipykernel)",
   "language": "python",
   "name": "python3"
  },
  "language_info": {
   "codemirror_mode": {
    "name": "ipython",
    "version": 3
   },
   "file_extension": ".py",
   "mimetype": "text/x-python",
   "name": "python",
   "nbconvert_exporter": "python",
   "pygments_lexer": "ipython3",
   "version": "3.11.7"
  }
 },
 "nbformat": 4,
 "nbformat_minor": 5
}
